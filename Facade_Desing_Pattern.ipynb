{
  "nbformat": 4,
  "nbformat_minor": 0,
  "metadata": {
    "colab": {
      "provenance": [],
      "authorship_tag": "ABX9TyOVRL9GciOM/zE2SB8R5jd3",
      "include_colab_link": true
    },
    "kernelspec": {
      "name": "python3",
      "display_name": "Python 3"
    },
    "language_info": {
      "name": "python"
    }
  },
  "cells": [
    {
      "cell_type": "markdown",
      "metadata": {
        "id": "view-in-github",
        "colab_type": "text"
      },
      "source": [
        "<a href=\"https://colab.research.google.com/github/Alikosemen/Facade-Desing-Pattern-in-Python/blob/main/Facade_Desing_Pattern.ipynb\" target=\"_parent\"><img src=\"https://colab.research.google.com/assets/colab-badge.svg\" alt=\"Open In Colab\"/></a>"
      ]
    },
    {
      "cell_type": "markdown",
      "source": [
        "This abstract implementation demonstrates the Facade pattern in Python"
      ],
      "metadata": {
        "id": "CG3hNNvjCRmP"
      }
    },
    {
      "cell_type": "code",
      "execution_count": 1,
      "metadata": {
        "colab": {
          "base_uri": "https://localhost:8080/"
        },
        "id": "-POYgCJFAPMH",
        "outputId": "8c7fdbef-5eac-49e2-c0bc-1642a60ed496"
      },
      "outputs": [
        {
          "output_type": "stream",
          "name": "stdout",
          "text": [
            "Subsystem1: Ready!\n",
            "Subsystem2: Ready!\n"
          ]
        }
      ],
      "source": [
        "class Subsystem1:\n",
        "\n",
        "  def operation1(self):\n",
        "    return \"Subsystem1: Ready!\"\n",
        "\n",
        "\n",
        "class Subsystem2:\n",
        "\n",
        "  def operation2(self):\n",
        "    return \"Subsystem2: Ready!\"\n",
        "\n",
        "\n",
        "class Facade:\n",
        "\n",
        "  def __init__(self):\n",
        "    self._subsystem1 = Subsystem1()\n",
        "    self._subsystem2 = Subsystem2()\n",
        "\n",
        "  def operation(self):\n",
        "    result = []\n",
        "    result.append(self._subsystem1.operation1())\n",
        "    result.append(self._subsystem2.operation2())\n",
        "    return '\\n'.join(result)\n",
        "\n",
        "\n",
        "\n",
        "def client_code(facade):\n",
        "    print(facade.operation())\n",
        "\n",
        "# Usage\n",
        "if __name__  == \"__main__\":\n",
        "  facade = Facade()\n",
        "  client_code(facade)\n",
        "\n"
      ]
    },
    {
      "cell_type": "markdown",
      "source": [
        "# Practical Example: A Payment Facade\n",
        "\n",
        "We’ll implement a basic Payment Facade, to streamline interactions with\n",
        "diverse payment gateways like PayPal, Stripe, and Crypto.\n",
        "\n",
        "The PaymentFacade consolidates interactions with diverse gateways,\n",
        "offering a unified interface for payment processing and simplifying the\n",
        "handling of multiple methods into a cohesive solution."
      ],
      "metadata": {
        "id": "c1Wwre2CAV-P"
      }
    },
    {
      "cell_type": "code",
      "source": [
        "from abc import ABC, abstractmethod\n",
        "\n",
        "class PayPalGateway:\n",
        "\n",
        "  def process_payment(self, amount):\n",
        "    return f\"Payment of ${amount} processed via PayPal\"\n",
        "\n",
        "class StripeGateway:\n",
        "\n",
        "  def pay(self, amount):\n",
        "    return f\"Payment of ${amount} processed via Stripe\"\n",
        "\n",
        "class CryptoGateway:\n",
        "\n",
        "  def make_payment(self, amount):\n",
        "    return f\"Payment of ${amount} processed via Crypto\"\n",
        "\n",
        "class PaymentFacade:\n",
        "\n",
        "  def __init__(self):\n",
        "    self._paypal = PayPalGateway()\n",
        "    self._stripe = StripeGateway()\n",
        "    self._crypto = CryptoGateway()\n",
        "\n",
        "  def process_payment(self, amount, gateway):\n",
        "    \"\"\"Processes payment through the selected gateway.\"\"\"\n",
        "    if gateway == 'paypal':\n",
        "      return self._paypal.process_payment(amount)\n",
        "    elif gateway == 'stripe':\n",
        "      return self._stripe.pay(amount)\n",
        "    elif gateway == 'crypto':\n",
        "      return self._crypto.make_payment(amount)\n",
        "    else:\n",
        "      return \"Invalid gateway selection\"\n",
        "\n",
        "def main():\n",
        "  payment_facade = PaymentFacade()\n",
        "\n",
        "  print(payment_facade.process_payment(100, 'paypal'))\n",
        "  print(payment_facade.process_payment(150, 'stripe'))\n",
        "  print(payment_facade.process_payment(200, 'crypto'))\n",
        "  print(payment_facade.process_payment(300, 'invalid_gateway'))\n",
        "\n",
        "main()"
      ],
      "metadata": {
        "colab": {
          "base_uri": "https://localhost:8080/"
        },
        "id": "uThgTLcODHgW",
        "outputId": "6de35362-e9f8-42a8-d9c1-f8981849a72b"
      },
      "execution_count": 3,
      "outputs": [
        {
          "output_type": "stream",
          "name": "stdout",
          "text": [
            "Payment of $100 processed via PayPal\n",
            "Payment of $150 processed via Stripe\n",
            "Payment of $200 processed via Crypto\n",
            "Invalid gateway selection\n"
          ]
        }
      ]
    }
  ]
}